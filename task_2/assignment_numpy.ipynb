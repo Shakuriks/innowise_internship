{
 "cells": [
  {
   "cell_type": "markdown",
   "id": "d3df79dd",
   "metadata": {},
   "source": [
    "## Упражнения по библиотеке Numpy"
   ]
  },
  {
   "cell_type": "code",
   "execution_count": 3,
   "id": "76b9c43b",
   "metadata": {},
   "outputs": [],
   "source": [
    "import numpy as np"
   ]
  },
  {
   "cell_type": "markdown",
   "id": "03727b7c",
   "metadata": {},
   "source": [
    "**1.** Дан случайный массив, поменять знак у элементов, значения которых между 3 и 8"
   ]
  },
  {
   "cell_type": "code",
   "execution_count": 21,
   "id": "b89a7523",
   "metadata": {},
   "outputs": [
    {
     "name": "stdout",
     "output_type": "stream",
     "text": [
      "Исходный массив [ 2  8  5  7  9  5 11  1]\n",
      "Конечный массив [ 2  8 -5 -7  9 -5 11  1]\n"
     ]
    }
   ],
   "source": [
    "arr_t1 = np.random.randint(0, 12, size = 8)\n",
    "print(\"Исходный массив\", arr_t1)\n",
    "\n",
    "arr_t1[(arr_t1 > 3) & (arr_t1 < 8)] *= -1\n",
    "print(\"Конечный массив\", arr_t1)"
   ]
  },
  {
   "cell_type": "markdown",
   "id": "5fa4abda",
   "metadata": {},
   "source": [
    "**2.** Заменить максимальный элемент случайного массива на 0"
   ]
  },
  {
   "cell_type": "code",
   "execution_count": 20,
   "id": "f2788a6e",
   "metadata": {},
   "outputs": [
    {
     "name": "stdout",
     "output_type": "stream",
     "text": [
      "Исходный массив [-8  2  5 -9  5 -6 -6  6  7 -9]\n",
      "Конечный массив [-8  2  5 -9  5 -6 -6  6  0 -9]\n"
     ]
    }
   ],
   "source": [
    "arr_t2 = np.random.randint(-10, 10, size = 10)\n",
    "print(\"Исходный массив\", arr_t2)\n",
    "\n",
    "arr_t2[arr_t2.argmax()] = 0\n",
    "print(\"Конечный массив\", arr_t2)"
   ]
  },
  {
   "cell_type": "markdown",
   "id": "3cac656b",
   "metadata": {},
   "source": [
    "**3.** Построить прямое произведение массивов (все комбинации с каждым элементом). На вход подается двумерный массив"
   ]
  },
  {
   "cell_type": "code",
   "execution_count": 19,
   "id": "3396b764",
   "metadata": {},
   "outputs": [
    {
     "name": "stdout",
     "output_type": "stream",
     "text": [
      "Исходный массив:\n",
      " [[0 1]\n",
      " [2 3]\n",
      " [4 5]]\n",
      "Прямое произведение массивов:\n",
      " [[0 2 4]\n",
      " [0 3 4]\n",
      " [1 2 4]\n",
      " [1 3 4]\n",
      " [0 2 5]\n",
      " [0 3 5]\n",
      " [1 2 5]\n",
      " [1 3 5]]\n"
     ]
    }
   ],
   "source": [
    "arr_t3 = np.arange(0, 6).reshape(3, 2)\n",
    "print(\"Исходный массив:\\n\", arr_t3)\n",
    "\n",
    "product = np.array(np.meshgrid(*arr_t3)).T.reshape(-1, arr_t3.shape[0])\n",
    "print(\"Прямое произведение массивов:\\n\", product)"
   ]
  },
  {
   "cell_type": "markdown",
   "id": "674c9354",
   "metadata": {},
   "source": [
    "**4.** Даны 2 массива A (8x3) и B (2x2). Найти строки в A, которые содержат элементы из каждой строки в B, независимо от порядка элементов в B"
   ]
  },
  {
   "cell_type": "code",
   "execution_count": 13,
   "id": "cb664782",
   "metadata": {},
   "outputs": [
    {
     "name": "stdout",
     "output_type": "stream",
     "text": [
      "Массив А:\n",
      "[[ 1  4  3]\n",
      " [ 9  5  6]\n",
      " [12  8  9]\n",
      " [ 2  4  7]\n",
      " [12  9  8]\n",
      " [ 0  6  9]\n",
      " [ 1 12  9]\n",
      " [ 8  5  9]]\n",
      "\n",
      "Массив B:\n",
      "[[ 8  5]\n",
      " [ 9 12]]\n",
      "\n",
      "Строки в A, которые содержат элементы из каждой строки в B, независимо от порядка элементов в B:\n",
      "[[ 9  5  6]\n",
      " [12  8  9]\n",
      " [12  9  8]\n",
      " [ 8  5  9]]\n"
     ]
    }
   ],
   "source": [
    "arr_a_t4 = np.array([[1, 4, 3], [9, 5, 6], [12, 8, 9], [2, 4, 7], \n",
    "                    [12, 9, 8], [0, 6, 9], [1, 12, 9], [8, 5, 9]])\n",
    "arr_b_t4 = np.array([[8,5], [9,12]])\n",
    "\n",
    "print(\"Массив А:\")\n",
    "print(arr_a_t4)\n",
    "print(\"\\nМассив B:\")\n",
    "print(arr_b_t4)\n",
    "\n",
    "def contains_elements(a_row: np.array, b_row_1: np.array, b_row_2: np.array) -> bool:\n",
    "    return np.any(np.isin(a_row, b_row_1)) and np.any(np.isin(a_row, b_row_2))\n",
    "\n",
    "mask_t4 = np.array([contains_elements(row, arr_b_t4[0], arr_b_t4[1]) for row in arr_a_t4])\n",
    "\n",
    "print(\"\\nСтроки в A, которые содержат элементы из каждой строки в B, независимо от порядка элементов в B:\")\n",
    "print(arr_a_t4[mask_t4])\n"
   ]
  },
  {
   "cell_type": "markdown",
   "id": "fa46533b",
   "metadata": {},
   "source": [
    "**5.** Дана 10x3 матрица, найти строки из неравных значений (например строка [2,2,3] остается, строка [3,3,3] удаляется)"
   ]
  },
  {
   "cell_type": "code",
   "execution_count": 16,
   "id": "fa545b23",
   "metadata": {},
   "outputs": [
    {
     "name": "stdout",
     "output_type": "stream",
     "text": [
      "Исходный массив:\n",
      "[[0 0 0]\n",
      " [3 7 9]\n",
      " [3 5 2]\n",
      " [4 4 4]\n",
      " [4 2 6]\n",
      " [6 7 8]\n",
      " [1 6 7]\n",
      " [5 3 1]\n",
      " [1 1 1]\n",
      " [6 2 6]]\n",
      "Конечный массив:\n",
      "[[3 7 9]\n",
      " [3 5 2]\n",
      " [4 2 6]\n",
      " [6 7 8]\n",
      " [1 6 7]\n",
      " [5 3 1]\n",
      " [6 2 6]]\n"
     ]
    }
   ],
   "source": [
    "arr_t5 = np.array([\n",
    "    [0, 0, 0],\n",
    "    [3, 7, 9],\n",
    "    [3, 5, 2],\n",
    "    [4, 4, 4],\n",
    "    [4, 2, 6],\n",
    "    [6, 7, 8],\n",
    "    [1, 6, 7],\n",
    "    [5, 3, 1],\n",
    "    [1, 1, 1],\n",
    "    [6, 2, 6]\n",
    "])\n",
    "\n",
    "print(\"Исходный массив:\")\n",
    "print(arr_t5)\n",
    "\n",
    "def are_row_elems_equal(row: np.array) -> bool:\n",
    "    return np.all(row == row[0])\n",
    "\n",
    "mask_t5 = np.array([not are_row_elems_equal(a_row) for a_row in arr_t5])\n",
    "\n",
    "print(\"Конечный массив:\")\n",
    "print(arr_t5[mask_t5])"
   ]
  },
  {
   "cell_type": "markdown",
   "id": "28f0d116",
   "metadata": {},
   "source": [
    "**6.** Дан двумерный массив. Удалить те строки, которые повторяются"
   ]
  },
  {
   "cell_type": "code",
   "execution_count": 17,
   "id": "83d2c0b7",
   "metadata": {},
   "outputs": [
    {
     "name": "stdout",
     "output_type": "stream",
     "text": [
      "Исходный массив:\n",
      "[[4 4 4]\n",
      " [3 7 9]\n",
      " [3 5 2]\n",
      " [4 4 4]\n",
      " [4 4 4]\n",
      " [6 2 6]\n",
      " [1 6 7]\n",
      " [5 3 1]\n",
      " [1 1 1]\n",
      " [6 2 6]]\n",
      "Конечный массив:\n",
      "[[1 1 1]\n",
      " [1 6 7]\n",
      " [3 5 2]\n",
      " [3 7 9]\n",
      " [4 4 4]\n",
      " [5 3 1]\n",
      " [6 2 6]]\n"
     ]
    }
   ],
   "source": [
    "arr_t6 = np.array([\n",
    "    [4, 4, 4],\n",
    "    [3, 7, 9],\n",
    "    [3, 5, 2],\n",
    "    [4, 4, 4],\n",
    "    [4, 4, 4],\n",
    "    [6, 2, 6],\n",
    "    [1, 6, 7],\n",
    "    [5, 3, 1],\n",
    "    [1, 1, 1],\n",
    "    [6, 2, 6]\n",
    "])\n",
    "\n",
    "print(\"Исходный массив:\")\n",
    "print(arr_t6)\n",
    "\n",
    "print(\"Конечный массив:\")\n",
    "print(np.unique(arr_t6, axis=0))"
   ]
  },
  {
   "cell_type": "markdown",
   "id": "6daa9e37",
   "metadata": {},
   "source": [
    "______\n",
    "______"
   ]
  },
  {
   "cell_type": "markdown",
   "id": "cfbfcaff",
   "metadata": {},
   "source": [
    "Для каждой из следующих задач (1-5) нужно привести 2 реализации – одна без использования numpy (cчитайте, что там, где на входе или выходе должны быть numpy array, будут просто списки), а вторая полностью векторизованная с использованием numpy (без использования питоновских циклов/map/list comprehension).\n",
    "\n",
    "\n",
    "__Замечание 1.__ Можно считать, что все указанные объекты непустые (к примеру, в __задаче 1__ на диагонали матрицы есть ненулевые элементы).\n",
    "\n",
    "__Замечание 2.__ Для большинства задач решение занимает не больше 1-2 строк."
   ]
  },
  {
   "cell_type": "markdown",
   "id": "673cac7f",
   "metadata": {},
   "source": [
    "___"
   ]
  },
  {
   "cell_type": "markdown",
   "id": "ca6f585e",
   "metadata": {},
   "source": [
    "* __Задача 1__: Подсчитать произведение ненулевых элементов на диагонали прямоугольной матрицы.  \n",
    " Например, для X = np.array([[1, 0, 1], [2, 0, 2], [3, 0, 3], [4, 4, 4]]) ответ 3."
   ]
  },
  {
   "cell_type": "code",
   "execution_count": null,
   "id": "065862fc",
   "metadata": {},
   "outputs": [],
   "source": [
    "# your code"
   ]
  },
  {
   "cell_type": "markdown",
   "id": "9fc51d41",
   "metadata": {},
   "source": [
    "* __Задача 2__: Даны два вектора x и y. Проверить, задают ли они одно и то же мультимножество.  \n",
    "  Например, для x = np.array([1, 2, 2, 4]), y = np.array([4, 2, 1, 2]) ответ True."
   ]
  },
  {
   "cell_type": "code",
   "execution_count": null,
   "id": "a809e02f",
   "metadata": {},
   "outputs": [],
   "source": [
    "# your code"
   ]
  },
  {
   "cell_type": "markdown",
   "id": "b9c185c7",
   "metadata": {},
   "source": [
    "* __Задача 3__: Найти максимальный элемент в векторе x среди элементов, перед которыми стоит ноль. \n",
    " Например, для x = np.array([6, 2, 0, 3, 0, 0, 5, 7, 0]) ответ 5."
   ]
  },
  {
   "cell_type": "code",
   "execution_count": null,
   "id": "b57df008",
   "metadata": {},
   "outputs": [],
   "source": [
    "# your code"
   ]
  },
  {
   "cell_type": "markdown",
   "id": "480be4ce",
   "metadata": {},
   "source": [
    "* __Задача 4__: Реализовать кодирование длин серий (Run-length encoding). Для некоторого вектора x необходимо вернуть кортеж из двух векторов одинаковой длины. Первый содержит числа, а второй - сколько раз их нужно повторить.  \n",
    " Например, для x = np.array([2, 2, 2, 3, 3, 3, 5]) ответ (np.array([2, 3, 5]), np.array([3, 3, 1]))."
   ]
  },
  {
   "cell_type": "code",
   "execution_count": null,
   "id": "3c592124",
   "metadata": {},
   "outputs": [],
   "source": [
    "# your code"
   ]
  },
  {
   "cell_type": "markdown",
   "id": "077532ec",
   "metadata": {},
   "source": [
    "* __Задача 5__: Даны две выборки объектов - X и Y. Вычислить матрицу евклидовых расстояний между объектами. Сравните с функцией scipy.spatial.distance.cdist по скорости работы."
   ]
  },
  {
   "cell_type": "code",
   "execution_count": null,
   "id": "1e807797",
   "metadata": {},
   "outputs": [],
   "source": [
    "# your code"
   ]
  },
  {
   "cell_type": "markdown",
   "id": "973e8064",
   "metadata": {},
   "source": [
    "_______\n",
    "________"
   ]
  },
  {
   "cell_type": "markdown",
   "id": "1104acb7",
   "metadata": {},
   "source": [
    "* #### __Задача 6__: CrunchieMunchies __*__\n",
    "\n",
    "Вы работаете в отделе маркетинга пищевой компании MyCrunch, которая разрабатывает новый вид вкусных, полезных злаков под названием **CrunchieMunchies**.\n",
    "\n",
    "Вы хотите продемонстрировать потребителям, насколько полезны ваши хлопья по сравнению с другими ведущими брендами, поэтому вы собрали данные о питании нескольких разных конкурентов.\n",
    "\n",
    "Ваша задача - использовать вычисления Numpy для анализа этих данных и доказать, что ваши **СrunchieMunchies** - самый здоровый выбор для потребителей.\n"
   ]
  },
  {
   "cell_type": "code",
   "execution_count": null,
   "id": "10a77f8d",
   "metadata": {},
   "outputs": [],
   "source": [
    "import numpy as np"
   ]
  },
  {
   "cell_type": "markdown",
   "id": "ab87cb03",
   "metadata": {},
   "source": [
    "1. Просмотрите файл cereal.csv. Этот файл содержит количества калорий для различных марок хлопьев. Загрузите данные из файла и сохраните их как calorie_stats."
   ]
  },
  {
   "cell_type": "code",
   "execution_count": null,
   "id": "9681ebf2",
   "metadata": {},
   "outputs": [],
   "source": [
    "calorie_stats = np.loadtxt(\"./data/cereal.csv\", delimiter=\",\")\n",
    "calorie_stats"
   ]
  },
  {
   "cell_type": "markdown",
   "id": "139cfbd8",
   "metadata": {},
   "source": [
    "2. В одной порции CrunchieMunchies содержится 60 калорий. Насколько выше среднее количество калорий у ваших конкурентов?\n",
    "\n",
    "Сохраните ответ в переменной average_calories и распечатайте переменную в терминале"
   ]
  },
  {
   "cell_type": "code",
   "execution_count": null,
   "id": "7036d240",
   "metadata": {},
   "outputs": [],
   "source": [
    "# your code"
   ]
  },
  {
   "cell_type": "markdown",
   "id": "b2ddb4cd",
   "metadata": {},
   "source": [
    "3. Корректно ли среднее количество калорий отражает распределение набора данных? Давайте отсортируем данные и посмотрим.\n",
    "\n",
    "Отсортируйте данные и сохраните результат в переменной calorie_stats_sorted. Распечатайте отсортированную информацию"
   ]
  },
  {
   "cell_type": "code",
   "execution_count": null,
   "id": "46eeb4ed",
   "metadata": {},
   "outputs": [],
   "source": [
    "# your code"
   ]
  },
  {
   "cell_type": "markdown",
   "id": "4dc74116",
   "metadata": {},
   "source": [
    "4. Похоже, что большинство значений выше среднего. Давайте посмотрим, является ли медиана наиболее корректным показателем набора данных.\n",
    "\n",
    "Вычислите медиану набора данных и сохраните свой ответ в median_calories. Выведите медиану, чтобы вы могли видеть, как она сравнивается со средним значением."
   ]
  },
  {
   "cell_type": "code",
   "execution_count": null,
   "id": "b56627c3",
   "metadata": {},
   "outputs": [],
   "source": [
    "# your code"
   ]
  },
  {
   "cell_type": "markdown",
   "id": "a63ab72f",
   "metadata": {},
   "source": [
    "5. В то время как медиана показывает, что по крайней мере половина наших значений составляет более 100 калорий, было бы более впечатляюще показать, что значительная часть конкурентов имеет более высокое количество калорий, чем CrunchieMunchies.\n",
    "\n",
    "Рассчитайте различные процентили и распечатайте их, пока не найдете наименьший процентиль, превышающий 60 калорий. Сохраните это значение в переменной nth_percentile."
   ]
  },
  {
   "cell_type": "code",
   "execution_count": null,
   "id": "fe80ce03",
   "metadata": {},
   "outputs": [],
   "source": [
    "# your code"
   ]
  },
  {
   "cell_type": "markdown",
   "id": "a2a3c5aa",
   "metadata": {},
   "source": [
    "6. Хотя процентиль показывает нам, что у большинства конкурентов количество калорий намного выше, это неудобная концепция для использования в маркетинговых материалах.\n",
    "\n",
    "Вместо этого давайте подсчитаем процент хлопьев, в которых содержится более 60 калорий на порцию. Сохраните свой ответ в переменной more_calories и распечатайте его"
   ]
  },
  {
   "cell_type": "code",
   "execution_count": null,
   "id": "ade0f6ea",
   "metadata": {},
   "outputs": [],
   "source": [
    "# your code"
   ]
  },
  {
   "cell_type": "markdown",
   "id": "1735d65b",
   "metadata": {},
   "source": [
    "7. Это действительно высокий процент. Это будет очень полезно, когда мы будем продвигать CrunchieMunchies. Но один вопрос заключается в том, насколько велики различия в наборе данных? Можем ли мы сделать обобщение, что в большинстве злаков содержится около 100 калорий или разброс еще больше?\n",
    "\n",
    "Рассчитайте величину отклонения, найдя стандартное отклонение, Сохраните свой ответ в calorie_std и распечатайте на терминале. Как мы можем включить эту ценность в наш анализ?"
   ]
  },
  {
   "cell_type": "code",
   "execution_count": null,
   "id": "85c8df1f",
   "metadata": {},
   "outputs": [],
   "source": [
    "# your code"
   ]
  },
  {
   "cell_type": "markdown",
   "id": "037455c5",
   "metadata": {},
   "source": [
    "8. Напишите короткий абзац, в котором кратко изложите свои выводы и то, как, по вашему мнению, эти данные могут быть использованы в интересах Mycrunch при маркетинге CrunchieMunchies."
   ]
  },
  {
   "cell_type": "code",
   "execution_count": null,
   "id": "c260fee9",
   "metadata": {},
   "outputs": [],
   "source": [
    "# your code"
   ]
  }
 ],
 "metadata": {
  "kernelspec": {
   "display_name": "Python 3 (ipykernel)",
   "language": "python",
   "name": "python3"
  },
  "language_info": {
   "codemirror_mode": {
    "name": "ipython",
    "version": 3
   },
   "file_extension": ".py",
   "mimetype": "text/x-python",
   "name": "python",
   "nbconvert_exporter": "python",
   "pygments_lexer": "ipython3",
   "version": "3.13.0"
  }
 },
 "nbformat": 4,
 "nbformat_minor": 5
}
