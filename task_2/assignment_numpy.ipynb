{
 "cells": [
  {
   "cell_type": "markdown",
   "id": "d3df79dd",
   "metadata": {},
   "source": [
    "## Упражнения по библиотеке Numpy"
   ]
  },
  {
   "cell_type": "code",
   "execution_count": 20,
   "id": "76b9c43b",
   "metadata": {},
   "outputs": [],
   "source": [
    "import numpy as np\n",
    "import timeit\n",
    "from collections import Counter"
   ]
  },
  {
   "cell_type": "markdown",
   "id": "03727b7c",
   "metadata": {},
   "source": [
    "**1.** Дан случайный массив, поменять знак у элементов, значения которых между 3 и 8"
   ]
  },
  {
   "cell_type": "code",
   "execution_count": 21,
   "id": "b89a7523",
   "metadata": {},
   "outputs": [
    {
     "name": "stdout",
     "output_type": "stream",
     "text": [
      "Исходный массив [ 5  1 10  8  6  7 10 11]\n",
      "Конечный массив [-5  1 10  8 -6 -7 10 11]\n"
     ]
    }
   ],
   "source": [
    "arr_t1 = np.random.randint(0, 12, size = 8)\n",
    "print(\"Исходный массив\", arr_t1)\n",
    "\n",
    "arr_t1[(arr_t1 > 3) & (arr_t1 < 8)] *= -1\n",
    "print(\"Конечный массив\", arr_t1)"
   ]
  },
  {
   "cell_type": "markdown",
   "id": "5fa4abda",
   "metadata": {},
   "source": [
    "**2.** Заменить максимальный элемент случайного массива на 0"
   ]
  },
  {
   "cell_type": "code",
   "execution_count": 22,
   "id": "f2788a6e",
   "metadata": {},
   "outputs": [
    {
     "name": "stdout",
     "output_type": "stream",
     "text": [
      "Исходный массив [-1  6 -4 -1  2  5  9 -2  5 -8]\n",
      "Конечный массив [-1  6 -4 -1  2  5  0 -2  5 -8]\n"
     ]
    }
   ],
   "source": [
    "arr_t2 = np.random.randint(-10, 10, size = 10)\n",
    "print(\"Исходный массив\", arr_t2)\n",
    "\n",
    "arr_t2[arr_t2.argmax()] = 0\n",
    "print(\"Конечный массив\", arr_t2)"
   ]
  },
  {
   "cell_type": "markdown",
   "id": "3cac656b",
   "metadata": {},
   "source": [
    "**3.** Построить прямое произведение массивов (все комбинации с каждым элементом). На вход подается двумерный массив"
   ]
  },
  {
   "cell_type": "code",
   "execution_count": 23,
   "id": "3396b764",
   "metadata": {},
   "outputs": [
    {
     "name": "stdout",
     "output_type": "stream",
     "text": [
      "Исходный массив:\n",
      " [[0 1]\n",
      " [2 3]\n",
      " [4 5]]\n",
      "Прямое произведение массивов:\n",
      " [[0 2 4]\n",
      " [0 3 4]\n",
      " [1 2 4]\n",
      " [1 3 4]\n",
      " [0 2 5]\n",
      " [0 3 5]\n",
      " [1 2 5]\n",
      " [1 3 5]]\n"
     ]
    }
   ],
   "source": [
    "arr_t3 = np.arange(0, 6).reshape(3, 2)\n",
    "print(\"Исходный массив:\\n\", arr_t3)\n",
    "\n",
    "product = np.array(np.meshgrid(*arr_t3)).T.reshape(-1, arr_t3.shape[0])\n",
    "print(\"Прямое произведение массивов:\\n\", product)"
   ]
  },
  {
   "cell_type": "markdown",
   "id": "674c9354",
   "metadata": {},
   "source": [
    "**4.** Даны 2 массива A (8x3) и B (2x2). Найти строки в A, которые содержат элементы из каждой строки в B, независимо от порядка элементов в B"
   ]
  },
  {
   "cell_type": "code",
   "execution_count": 24,
   "id": "cb664782",
   "metadata": {},
   "outputs": [
    {
     "name": "stdout",
     "output_type": "stream",
     "text": [
      "Массив А:\n",
      "[[ 1  4  3]\n",
      " [ 9  5  6]\n",
      " [12  8  9]\n",
      " [ 2  4  7]\n",
      " [12  9  8]\n",
      " [ 0  6  9]\n",
      " [ 1 12  9]\n",
      " [ 8  5  9]]\n",
      "\n",
      "Массив B:\n",
      "[[ 8  5]\n",
      " [ 9 12]]\n",
      "\n",
      "Строки в A, которые содержат элементы из каждой строки в B, независимо от порядка элементов в B:\n",
      "[[ 9  5  6]\n",
      " [12  8  9]\n",
      " [12  9  8]\n",
      " [ 8  5  9]]\n"
     ]
    }
   ],
   "source": [
    "arr_a_t4 = np.array([[1, 4, 3], [9, 5, 6], [12, 8, 9], [2, 4, 7], \n",
    "                    [12, 9, 8], [0, 6, 9], [1, 12, 9], [8, 5, 9]])\n",
    "arr_b_t4 = np.array([[8,5], [9,12]])\n",
    "\n",
    "print(\"Массив А:\")\n",
    "print(arr_a_t4)\n",
    "print(\"\\nМассив B:\")\n",
    "print(arr_b_t4)\n",
    "\n",
    "def contains_elements(a_row: np.array, b_row_1: np.array, b_row_2: np.array) -> bool:\n",
    "    return np.any(np.isin(a_row, b_row_1)) and np.any(np.isin(a_row, b_row_2))\n",
    "\n",
    "mask_t4 = np.array([contains_elements(row, arr_b_t4[0], arr_b_t4[1]) for row in arr_a_t4])\n",
    "\n",
    "print(\"\\nСтроки в A, которые содержат элементы из каждой строки в B, независимо от порядка элементов в B:\")\n",
    "print(arr_a_t4[mask_t4])\n"
   ]
  },
  {
   "cell_type": "markdown",
   "id": "fa46533b",
   "metadata": {},
   "source": [
    "**5.** Дана 10x3 матрица, найти строки из неравных значений (например строка [2,2,3] остается, строка [3,3,3] удаляется)"
   ]
  },
  {
   "cell_type": "code",
   "execution_count": 25,
   "id": "fa545b23",
   "metadata": {},
   "outputs": [
    {
     "name": "stdout",
     "output_type": "stream",
     "text": [
      "Исходный массив:\n",
      "[[0 0 0]\n",
      " [3 7 9]\n",
      " [3 5 2]\n",
      " [4 4 4]\n",
      " [4 2 6]\n",
      " [6 7 8]\n",
      " [1 6 7]\n",
      " [5 3 1]\n",
      " [1 1 1]\n",
      " [6 2 6]]\n",
      "Конечный массив:\n",
      "[[3 7 9]\n",
      " [3 5 2]\n",
      " [4 2 6]\n",
      " [6 7 8]\n",
      " [1 6 7]\n",
      " [5 3 1]\n",
      " [6 2 6]]\n"
     ]
    }
   ],
   "source": [
    "arr_t5 = np.array([\n",
    "    [0, 0, 0],\n",
    "    [3, 7, 9],\n",
    "    [3, 5, 2],\n",
    "    [4, 4, 4],\n",
    "    [4, 2, 6],\n",
    "    [6, 7, 8],\n",
    "    [1, 6, 7],\n",
    "    [5, 3, 1],\n",
    "    [1, 1, 1],\n",
    "    [6, 2, 6]\n",
    "])\n",
    "\n",
    "print(\"Исходный массив:\")\n",
    "print(arr_t5)\n",
    "\n",
    "def are_row_elems_equal(row: np.array) -> bool:\n",
    "    return np.all(row == row[0])\n",
    "\n",
    "mask_t5 = np.array([not are_row_elems_equal(a_row) for a_row in arr_t5])\n",
    "\n",
    "print(\"Конечный массив:\")\n",
    "print(arr_t5[mask_t5])"
   ]
  },
  {
   "cell_type": "markdown",
   "id": "28f0d116",
   "metadata": {},
   "source": [
    "**6.** Дан двумерный массив. Удалить те строки, которые повторяются"
   ]
  },
  {
   "cell_type": "code",
   "execution_count": 26,
   "id": "83d2c0b7",
   "metadata": {},
   "outputs": [
    {
     "name": "stdout",
     "output_type": "stream",
     "text": [
      "Исходный массив:\n",
      "[[4 4 4]\n",
      " [3 7 9]\n",
      " [3 5 2]\n",
      " [4 4 4]\n",
      " [4 4 4]\n",
      " [6 2 6]\n",
      " [1 6 7]\n",
      " [5 3 1]\n",
      " [1 1 1]\n",
      " [6 2 6]]\n",
      "Конечный массив:\n",
      "[[1 1 1]\n",
      " [1 6 7]\n",
      " [3 5 2]\n",
      " [3 7 9]\n",
      " [4 4 4]\n",
      " [5 3 1]\n",
      " [6 2 6]]\n"
     ]
    }
   ],
   "source": [
    "arr_t6 = np.array([\n",
    "    [4, 4, 4],\n",
    "    [3, 7, 9],\n",
    "    [3, 5, 2],\n",
    "    [4, 4, 4],\n",
    "    [4, 4, 4],\n",
    "    [6, 2, 6],\n",
    "    [1, 6, 7],\n",
    "    [5, 3, 1],\n",
    "    [1, 1, 1],\n",
    "    [6, 2, 6]\n",
    "])\n",
    "\n",
    "print(\"Исходный массив:\")\n",
    "print(arr_t6)\n",
    "\n",
    "print(\"Конечный массив:\")\n",
    "print(np.unique(arr_t6, axis=0))"
   ]
  },
  {
   "cell_type": "markdown",
   "id": "6daa9e37",
   "metadata": {},
   "source": [
    "______\n",
    "______"
   ]
  },
  {
   "cell_type": "markdown",
   "id": "cfbfcaff",
   "metadata": {},
   "source": [
    "Для каждой из следующих задач (1-5) нужно привести 2 реализации – одна без использования numpy (cчитайте, что там, где на входе или выходе должны быть numpy array, будут просто списки), а вторая полностью векторизованная с использованием numpy (без использования питоновских циклов/map/list comprehension).\n",
    "\n",
    "\n",
    "__Замечание 1.__ Можно считать, что все указанные объекты непустые (к примеру, в __задаче 1__ на диагонали матрицы есть ненулевые элементы).\n",
    "\n",
    "__Замечание 2.__ Для большинства задач решение занимает не больше 1-2 строк."
   ]
  },
  {
   "cell_type": "markdown",
   "id": "673cac7f",
   "metadata": {},
   "source": [
    "___"
   ]
  },
  {
   "cell_type": "markdown",
   "id": "ca6f585e",
   "metadata": {},
   "source": [
    "* __Задача 1__: Подсчитать произведение ненулевых элементов на диагонали прямоугольной матрицы.  \n",
    " Например, для X = np.array([[1, 0, 1], [2, 0, 2], [3, 0, 3], [4, 4, 4]]) ответ 3."
   ]
  },
  {
   "cell_type": "code",
   "execution_count": 27,
   "id": "065862fc",
   "metadata": {},
   "outputs": [
    {
     "name": "stdout",
     "output_type": "stream",
     "text": [
      "Python\n",
      "Матрица:\n",
      "[0, 0, 1, 9, 8]\n",
      "[2, 4, 2, 6, 1]\n",
      "[3, 0, 0, 1, 2]\n",
      "[4, 4, 4, 25, 6]\n",
      "Результат: 100\n"
     ]
    }
   ],
   "source": [
    "# Python\n",
    "arr_t1_p = [\n",
    "    [0, 0, 1, 9, 8],\n",
    "    [2, 4, 2, 6, 1],\n",
    "    [3, 0, 0, 1, 2],\n",
    "    [4, 4, 4, 25, 6]\n",
    "]\n",
    "print(\"Python\")\n",
    "print(\"Матрица:\")\n",
    "for row in arr_t1_p:\n",
    "    print(row)\n",
    "    \n",
    "rows_t1_p = len(arr_t1_p)\n",
    "cols_t1_p = len(arr_t1_p[0]) if rows_t1_p > 0 else 0\n",
    "\n",
    "dim_size_t1_p = min(rows_t1_p, cols_t1_p)\n",
    "\n",
    "product_t1_p = 1\n",
    "\n",
    "for i in range(dim_size_t1_p):\n",
    "    if arr_t1_p[i][i] != 0:\n",
    "        product_t1_p *= arr_t1_p[i][i]\n",
    "\n",
    "print(f\"Результат: {product_t1_p}\")"
   ]
  },
  {
   "cell_type": "code",
   "execution_count": 28,
   "id": "3115e0d9",
   "metadata": {},
   "outputs": [
    {
     "name": "stdout",
     "output_type": "stream",
     "text": [
      "NumPy\n",
      "Матрица:\n",
      "[[ 0  0  1  9  8]\n",
      " [ 2  4  2  6  1]\n",
      " [ 3  0  0  1  2]\n",
      " [ 4  4  4 25  6]]\n",
      "Результат: 100\n"
     ]
    }
   ],
   "source": [
    "# NumPy\n",
    "arr_t1_np = np.array([\n",
    "    [0, 0, 1, 9, 8],\n",
    "    [2, 4, 2, 6, 1],\n",
    "    [3, 0, 0, 1, 2],\n",
    "    [4, 4, 4, 25, 6]\n",
    "])\n",
    "\n",
    "print(\"NumPy\")\n",
    "print(\"Матрица:\")\n",
    "print(arr_t1_np)\n",
    "\n",
    "diag_t1_np = np.diagonal(arr_t1_np)\n",
    "\n",
    "nonzero_diag_t1_np = diag_t1_np[diag_t1_np != 0]\n",
    "product_t1_np = np.prod(nonzero_diag_t1_np)\n",
    "\n",
    "print(f\"Результат: {product_t1_np}\")"
   ]
  },
  {
   "cell_type": "markdown",
   "id": "9fc51d41",
   "metadata": {},
   "source": [
    "* __Задача 2__: Даны два вектора x и y. Проверить, задают ли они одно и то же мультимножество.  \n",
    "  Например, для x = np.array([1, 2, 2, 4]), y = np.array([4, 2, 1, 2]) ответ True."
   ]
  },
  {
   "cell_type": "code",
   "execution_count": 29,
   "id": "a809e02f",
   "metadata": {},
   "outputs": [
    {
     "name": "stdout",
     "output_type": "stream",
     "text": [
      "Python\n",
      "Х: [1, 3, 3, 3, 5, 5]\n",
      "Y: [3, 1, 5, 3, 3, 5]\n",
      "Z: [3, 3, 3, 3, 3, 3]\n",
      "Результат X и Y: True\n",
      "Результат X и Z: False\n",
      "Результат Y и Z: False\n"
     ]
    }
   ],
   "source": [
    "#Python\n",
    "\n",
    "x_t2_p = [1,3,3,3,5,5]\n",
    "y_t2_p = [3,1,5,3,3,5]\n",
    "z_t2_p = [3,3,3,3,3,3]\n",
    "\n",
    "print(\"Python\")\n",
    "print(f\"Х: {x_t2_p}\")\n",
    "print(f\"Y: {y_t2_p}\")\n",
    "print(f\"Z: {z_t2_p}\")\n",
    "\n",
    "print(f\"Результат X и Y: {Counter(x_t2_p) == Counter(y_t2_p)}\")\n",
    "print(f\"Результат X и Z: {Counter(x_t2_p) == Counter(z_t2_p)}\")\n",
    "print(f\"Результат Y и Z: {Counter(y_t2_p) == Counter(z_t2_p)}\")"
   ]
  },
  {
   "cell_type": "code",
   "execution_count": 30,
   "id": "7a626ff5",
   "metadata": {},
   "outputs": [
    {
     "name": "stdout",
     "output_type": "stream",
     "text": [
      "NumPy\n",
      "Х: [1 3 3 3 5 5]\n",
      "Y: [3 1 5 3 3 5]\n",
      "Z: [1 5 3 3 3 3]\n",
      "Результат X и Y: True\n",
      "Результат X и Z: False\n",
      "Результат Y и Z: False\n"
     ]
    }
   ],
   "source": [
    "#NumPy\n",
    "x_t2_np = np.array([1,3,3,3,5,5])\n",
    "y_t2_np = np.array([3,1,5,3,3,5])\n",
    "z_t2_np = np.array([1,5,3,3,3,3])\n",
    "\n",
    "print(\"NumPy\")\n",
    "print(f\"Х: {x_t2_np}\")\n",
    "print(f\"Y: {y_t2_np}\")\n",
    "print(f\"Z: {z_t2_np}\")\n",
    "\n",
    "print(f\"Результат X и Y: {np.array_equal(np.unique(x_t2_np, return_counts=True), np.unique(y_t2_np, return_counts=True))}\")\n",
    "print(f\"Результат X и Z: {np.array_equal(np.unique(x_t2_np, return_counts=True), np.unique(z_t2_np, return_counts=True))}\")\n",
    "print(f\"Результат Y и Z: {np.array_equal(np.unique(y_t2_np, return_counts=True), np.unique(z_t2_np, return_counts=True))}\")"
   ]
  },
  {
   "cell_type": "markdown",
   "id": "b9c185c7",
   "metadata": {},
   "source": [
    "* __Задача 3__: Найти максимальный элемент в векторе x среди элементов, перед которыми стоит ноль. \n",
    " Например, для x = np.array([6, 2, 0, 3, 0, 0, 5, 7, 0]) ответ 5."
   ]
  },
  {
   "cell_type": "code",
   "execution_count": 31,
   "id": "e88a773a",
   "metadata": {},
   "outputs": [
    {
     "name": "stdout",
     "output_type": "stream",
     "text": [
      "Python\n",
      "Вектор:\n",
      "[6, 2, 0, 3, 0, 0, 5, 7, 0]\n",
      "Результат: 5\n"
     ]
    }
   ],
   "source": [
    "# Python\n",
    "arr_t3_p = [6, 2, 0, 3, 0, 0, 5, 7, 0]\n",
    "\n",
    "print(\"Python\")\n",
    "print(\"Вектор:\")\n",
    "print(arr_t3_p)\n",
    "\n",
    "max_val_t3_p = None\n",
    "\n",
    "for i in range(1, len(arr_t3_p)):\n",
    "    if arr_t3_p[i-1] == 0:\n",
    "        if max_val_t3_p is None or arr_t3_p[i] > max_val_t3_p:\n",
    "            max_val_t3_p = arr_t3_p[i]\n",
    "\n",
    "print(f\"Результат: {max_val_t3_p}\") "
   ]
  },
  {
   "cell_type": "code",
   "execution_count": 32,
   "id": "b57df008",
   "metadata": {},
   "outputs": [
    {
     "name": "stdout",
     "output_type": "stream",
     "text": [
      "NumPy\n",
      "Вектор:\n",
      "[6 2 0 3 0 0 5 7 0]\n",
      "Результат: 5\n"
     ]
    }
   ],
   "source": [
    "# NumPy\n",
    "arr_t3_np = np.array([6, 2, 0, 3, 0, 0, 5, 7, 0])\n",
    "\n",
    "print(\"NumPy\")\n",
    "print(\"Вектор:\")\n",
    "print(arr_t3_np)\n",
    "\n",
    "zero_idxs = np.where(arr_t3_np == 0)[0]\n",
    "if np.max(zero_idxs) == arr_t3_np.size - 1:\n",
    "    zero_idxs = np.delete(zero_idxs, zero_idxs.argmax())\n",
    "    \n",
    "print(f\"Результат: {np.max(arr_t3_np[zero_idxs+1])}\")"
   ]
  },
  {
   "cell_type": "markdown",
   "id": "480be4ce",
   "metadata": {},
   "source": [
    "* __Задача 4__: Реализовать кодирование длин серий (Run-length encoding). Для некоторого вектора x необходимо вернуть кортеж из двух векторов одинаковой длины. Первый содержит числа, а второй - сколько раз их нужно повторить.  \n",
    " Например, для x = np.array([2, 2, 2, 3, 3, 3, 5]) ответ (np.array([2, 3, 5]), np.array([3, 3, 1]))."
   ]
  },
  {
   "cell_type": "code",
   "execution_count": 33,
   "id": "3c592124",
   "metadata": {},
   "outputs": [
    {
     "name": "stdout",
     "output_type": "stream",
     "text": [
      "Python\n",
      "Вектор:\n",
      "[2, 2, 2, 3, 3, 3, 5, 2, 2, 10, 5, 5, 5, 3, 3, 3, 10]\n",
      "Значения: [2, 3, 5, 2, 10, 5, 3, 10]\n",
      "Повторы: [3, 3, 1, 2, 1, 3, 3, 1]\n"
     ]
    }
   ],
   "source": [
    "# Python\n",
    "arr_t4_p = [2, 2, 2, 3, 3, 3, 5, 2, 2, 10, 5, 5, 5, 3, 3, 3, 10]\n",
    "\n",
    "print(\"Python\")\n",
    "print(\"Вектор:\")\n",
    "print(arr_t4_p)\n",
    "\n",
    "# Кодировка длин серий\n",
    "values_t4_p, counts_t4_p = [], []\n",
    "\n",
    "if arr_t4_p:  # Проверяем, что список не пуст\n",
    "    current_value_t4_p = arr_t4_p[0]\n",
    "    count_t4_p = 1\n",
    "\n",
    "    for i in range(1, len(arr_t4_p)):\n",
    "        if arr_t4_p[i] == current_value_t4_p:\n",
    "            count_t4_p += 1\n",
    "        else:\n",
    "            values_t4_p.append(current_value_t4_p)\n",
    "            counts_t4_p.append(count_t4_p)\n",
    "            current_value_t4_p = arr_t4_p[i]\n",
    "            count_t4_p = 1\n",
    "            \n",
    "    # Добавляем последний элемент\n",
    "    values_t4_p.append(current_value_t4_p)\n",
    "    counts_t4_p.append(count_t4_p)\n",
    "\n",
    "print(f\"Значения: {values_t4_p}\")\n",
    "print(f\"Повторы: {counts_t4_p}\")\n"
   ]
  },
  {
   "cell_type": "code",
   "execution_count": 34,
   "metadata": {},
   "outputs": [
    {
     "name": "stdout",
     "output_type": "stream",
     "text": [
      "NumPy\n",
      "Вектор:\n",
      "[ 2  2  2  3  3  3  5  2  2 10  5  5  5  3  3  3 10]\n",
      "Значения: [ 2  3  5  2 10  5  3 10]\n",
      "Повторы: [3 3 1 2 1 3 3 1]\n"
     ]
    }
   ],
   "source": [
    "# NumPy\n",
    "arr_t4_np = np.array([2, 2, 2, 3, 3, 3, 5, 2, 2, 10, 5, 5, 5, 3, 3, 3, 10])\n",
    "\n",
    "print(\"NumPy\")\n",
    "print(\"Вектор:\")\n",
    "print(arr_t4_np)\n",
    "\n",
    "changes_t4_np = np.diff(arr_t4_np, prepend=arr_t4_np[0] - 1)\n",
    "series_starts_t4_np = np.where(changes_t4_np != 0)[0]\n",
    "\n",
    "values_t4_np = arr_t4_np[series_starts_t4_np]\n",
    "counts_t4_np = np.diff(np.append(series_starts_t4_np, len(arr_t4_np)))\n",
    "\n",
    "print(f\"Значения: {values_t4_np}\")\n",
    "print(f\"Повторы: {counts_t4_np}\")"
   ]
  },
  {
   "cell_type": "markdown",
   "id": "077532ec",
   "metadata": {},
   "source": [
    "* __Задача 5__: Даны две выборки объектов - X и Y. Вычислить матрицу евклидовых расстояний между объектами. Сравните с функцией scipy.spatial.distance.cdist по скорости работы."
   ]
  },
  {
   "cell_type": "code",
   "execution_count": 35,
   "id": "1e807797",
   "metadata": {},
   "outputs": [
    {
     "name": "stdout",
     "output_type": "stream",
     "text": [
      "Python\n",
      "X: [[0, -1, 3], [9, -8, 0], [1, -1, 34], [45, -2, 6], [9, -4, -7]]\n",
      "Y: [[16, 9, 5], [26, -26, 13], [4, 4, 4], [0, 0, 37], [77, 5, 2]]\n",
      "Матрица евклидовых расстояний: [[18.973665961010276, 37.429934544425805, 6.48074069840786, 34.0147027033899, 77.23988606931007], [19.05255888325765, 27.964262908219126, 13.601470508735444, 38.91015291668744, 69.26037828369117], [34.14674215792775, 41.12177038990418, 30.56141357987225, 3.3166247903554, 82.68010643437755], [31.0322412983658, 31.400636936215164, 41.48493702538308, 54.680892457969264, 33.0], [19.026297590440446, 34.249087579087416, 14.491376746189438, 45.088801270381985, 69.18092222571191]]\n",
      "Время выполнения 100000 повторений: 2.0737745410006028\n"
     ]
    }
   ],
   "source": [
    "# Python\n",
    "\n",
    "x_t5_p = [[0, -1, 3], [9, -8, 0], [1, -1, 34], [45, -2, 6], [9, -4, -7]]\n",
    "y_t5_p = [[16, 9, 5], [26, -26, 13], [4, 4, 4], [0, 0, 37], [77, 5, 2]]\n",
    "\n",
    "print(\"Python\")\n",
    "print(f\"X: {x_t5_p}\")\n",
    "print(f\"Y: {y_t5_p}\")\n",
    "\n",
    "def euclidean_distance_p(x_objects, y_objects):\n",
    "    distances = []\n",
    "    for x in x_objects:\n",
    "        row = []\n",
    "        for y in y_objects:\n",
    "            dist = sum((xi-yi) ** 2 for xi, yi in zip(x,y)) ** 0.5\n",
    "            row.append(dist)\n",
    "        distances.append(row)\n",
    "    return distances\n",
    "\n",
    "print(f\"Матрица евклидовых расстояний: {euclidean_distance_p(x_t5_p, y_t5_p)}\")\n",
    "print(f\"Время выполнения 100000 повторений: {timeit.timeit(lambda: euclidean_distance_p(x_t5_p, y_t5_p), number= 100000)}\")\n"
   ]
  },
  {
   "cell_type": "code",
   "execution_count": 36,
   "id": "356e27ee",
   "metadata": {},
   "outputs": [
    {
     "name": "stdout",
     "output_type": "stream",
     "text": [
      "NumPy\n",
      "X:\n",
      "[[ 0 -1  3]\n",
      " [ 9 -8  0]\n",
      " [ 1 -1 34]\n",
      " [45 -2  6]\n",
      " [ 9 -4 -7]]\n",
      "Y:\n",
      "[[ 16   9   5]\n",
      " [ 26 -26  13]\n",
      " [  4   4   4]\n",
      " [  0   0  37]\n",
      " [ 77   5   2]]\n",
      "Матрица евклидовых расстояний:\n",
      " [[18.97366596 37.42993454  6.4807407  34.0147027  77.23988607]\n",
      " [19.05255888 27.96426291 13.60147051 38.91015292 69.26037828]\n",
      " [34.14674216 41.12177039 30.56141358  3.31662479 82.68010643]\n",
      " [31.0322413  31.40063694 41.48493703 54.68089246 33.        ]\n",
      " [19.02629759 34.24908758 14.49137675 45.08880127 69.18092223]]\n",
      "Время выполнения 100000 повторений: 0.6341639999882318\n"
     ]
    }
   ],
   "source": [
    "# NumPy\n",
    "\n",
    "x_t5_np = np.array([[0, -1, 3], [9, -8, 0], [1, -1, 34], [45, -2, 6], [9, -4, -7]])\n",
    "y_t5_np = np.array([[16, 9, 5], [26, -26, 13], [4, 4, 4], [0, 0, 37], [77, 5, 2]])\n",
    "\n",
    "print(\"NumPy\")\n",
    "print(f\"X:\")\n",
    "print(x_t5_np)\n",
    "print(f\"Y:\")\n",
    "print(y_t5_np)\n",
    "\n",
    "def euclidean_distance_np(x_objects, y_objects):\n",
    "    diff = x_objects[:, np.newaxis, :] - y_objects\n",
    "    return np.sqrt(np.sum(diff**2, axis=2))\n",
    "\n",
    "print(f\"Матрица евклидовых расстояний:\\n {euclidean_distance_np(x_t5_np, y_t5_np)}\")\n",
    "print(f\"Время выполнения 100000 повторений: {timeit.timeit(lambda: euclidean_distance_np(x_t5_np, y_t5_np), number= 100000)}\")\n"
   ]
  },
  {
   "cell_type": "code",
   "execution_count": 37,
   "id": "7a994083",
   "metadata": {},
   "outputs": [
    {
     "name": "stdout",
     "output_type": "stream",
     "text": [
      "SciPy\n",
      "Объеты выборки X: [[0, -1, 3], [9, -8, 0], [1, -1, 34], [45, -2, 6], [9, -4, -7]]\n",
      "Объекты выборки Y: [[16, 9, 5], [26, -26, 13], [4, 4, 4], [0, 0, 37], [77, 5, 2]]\n",
      "Матрица евклидовых расстояний:\n",
      " [[18.97366596 37.42993454  6.4807407  34.0147027  77.23988607]\n",
      " [19.05255888 27.96426291 13.60147051 38.91015292 69.26037828]\n",
      " [34.14674216 41.12177039 30.56141358  3.31662479 82.68010643]\n",
      " [31.0322413  31.40063694 41.48493703 54.68089246 33.        ]\n",
      " [19.02629759 34.24908758 14.49137675 45.08880127 69.18092223]]\n",
      "Время выполнения 100000 повторений: 0.6952378339774441\n"
     ]
    }
   ],
   "source": [
    "#SciPy\n",
    "from scipy.spatial.distance import cdist\n",
    "\n",
    "x_t5_sp = [[0, -1, 3], [9, -8, 0], [1, -1, 34], [45, -2, 6], [9, -4, -7]]\n",
    "y_t5_sp = [[16, 9, 5], [26, -26, 13], [4, 4, 4], [0, 0, 37], [77, 5, 2]]\n",
    "\n",
    "print(\"SciPy\")\n",
    "print(f\"Объеты выборки X: {x_t5_sp}\")\n",
    "print(f\"Объекты выборки Y: {y_t5_sp}\")\n",
    "\n",
    "def euclidean_distance_sp(x_objects, y_objects):\n",
    "    return cdist(x_objects, y_objects, 'euclidean')\n",
    "\n",
    "print(f\"Матрица евклидовых расстояний:\\n {euclidean_distance_sp(x_t5_sp, y_t5_sp)}\")\n",
    "print(f\"Время выполнения 100000 повторений: {timeit.timeit(lambda: euclidean_distance_sp(x_t5_sp, y_t5_sp), number= 100000)}\")"
   ]
  },
  {
   "cell_type": "markdown",
   "id": "973e8064",
   "metadata": {},
   "source": [
    "_______\n",
    "________"
   ]
  },
  {
   "cell_type": "markdown",
   "id": "1104acb7",
   "metadata": {},
   "source": [
    "* #### __Задача 6__: CrunchieMunchies __*__\n",
    "\n",
    "Вы работаете в отделе маркетинга пищевой компании MyCrunch, которая разрабатывает новый вид вкусных, полезных злаков под названием **CrunchieMunchies**.\n",
    "\n",
    "Вы хотите продемонстрировать потребителям, насколько полезны ваши хлопья по сравнению с другими ведущими брендами, поэтому вы собрали данные о питании нескольких разных конкурентов.\n",
    "\n",
    "Ваша задача - использовать вычисления Numpy для анализа этих данных и доказать, что ваши **СrunchieMunchies** - самый здоровый выбор для потребителей.\n"
   ]
  },
  {
   "cell_type": "code",
   "execution_count": 38,
   "id": "10a77f8d",
   "metadata": {},
   "outputs": [],
   "source": [
    "import numpy as np"
   ]
  },
  {
   "cell_type": "markdown",
   "id": "ab87cb03",
   "metadata": {},
   "source": [
    "1. Просмотрите файл cereal.csv. Этот файл содержит количества калорий для различных марок хлопьев. Загрузите данные из файла и сохраните их как calorie_stats."
   ]
  },
  {
   "cell_type": "code",
   "execution_count": 39,
   "id": "9681ebf2",
   "metadata": {},
   "outputs": [
    {
     "data": {
      "text/plain": [
       "array([ 70., 120.,  70.,  50., 110., 110., 110., 130.,  90.,  90., 120.,\n",
       "       110., 120., 110., 110., 110., 100., 110., 110., 110., 100., 110.,\n",
       "       100., 100., 110., 110., 100., 120., 120., 110., 100., 110., 100.,\n",
       "       110., 120., 120., 110., 110., 110., 140., 110., 100., 110., 100.,\n",
       "       150., 150., 160., 100., 120., 140.,  90., 130., 120., 100.,  50.,\n",
       "        50., 100., 100., 120., 100.,  90., 110., 110.,  80.,  90.,  90.,\n",
       "       110., 110.,  90., 110., 140., 100., 110., 110., 100., 100., 110.])"
      ]
     },
     "execution_count": 39,
     "metadata": {},
     "output_type": "execute_result"
    }
   ],
   "source": [
    "calorie_stats = np.loadtxt(\"./data/cereal.csv\", delimiter=\",\")\n",
    "calorie_stats"
   ]
  },
  {
   "cell_type": "markdown",
   "id": "139cfbd8",
   "metadata": {},
   "source": [
    "2. В одной порции CrunchieMunchies содержится 60 калорий. Насколько выше среднее количество калорий у ваших конкурентов?\n",
    "\n",
    "Сохраните ответ в переменной average_calories и распечатайте переменную в терминале"
   ]
  },
  {
   "cell_type": "code",
   "execution_count": 40,
   "id": "7036d240",
   "metadata": {},
   "outputs": [],
   "source": [
    "# your code"
   ]
  },
  {
   "cell_type": "markdown",
   "id": "b2ddb4cd",
   "metadata": {},
   "source": [
    "3. Корректно ли среднее количество калорий отражает распределение набора данных? Давайте отсортируем данные и посмотрим.\n",
    "\n",
    "Отсортируйте данные и сохраните результат в переменной calorie_stats_sorted. Распечатайте отсортированную информацию"
   ]
  },
  {
   "cell_type": "code",
   "execution_count": 41,
   "id": "46eeb4ed",
   "metadata": {},
   "outputs": [],
   "source": [
    "# your code"
   ]
  },
  {
   "cell_type": "markdown",
   "id": "4dc74116",
   "metadata": {},
   "source": [
    "4. Похоже, что большинство значений выше среднего. Давайте посмотрим, является ли медиана наиболее корректным показателем набора данных.\n",
    "\n",
    "Вычислите медиану набора данных и сохраните свой ответ в median_calories. Выведите медиану, чтобы вы могли видеть, как она сравнивается со средним значением."
   ]
  },
  {
   "cell_type": "code",
   "execution_count": 42,
   "id": "b56627c3",
   "metadata": {},
   "outputs": [],
   "source": [
    "# your code"
   ]
  },
  {
   "cell_type": "markdown",
   "id": "a63ab72f",
   "metadata": {},
   "source": [
    "5. В то время как медиана показывает, что по крайней мере половина наших значений составляет более 100 калорий, было бы более впечатляюще показать, что значительная часть конкурентов имеет более высокое количество калорий, чем CrunchieMunchies.\n",
    "\n",
    "Рассчитайте различные процентили и распечатайте их, пока не найдете наименьший процентиль, превышающий 60 калорий. Сохраните это значение в переменной nth_percentile."
   ]
  },
  {
   "cell_type": "code",
   "execution_count": 43,
   "id": "fe80ce03",
   "metadata": {},
   "outputs": [],
   "source": [
    "# your code"
   ]
  },
  {
   "cell_type": "markdown",
   "id": "a2a3c5aa",
   "metadata": {},
   "source": [
    "6. Хотя процентиль показывает нам, что у большинства конкурентов количество калорий намного выше, это неудобная концепция для использования в маркетинговых материалах.\n",
    "\n",
    "Вместо этого давайте подсчитаем процент хлопьев, в которых содержится более 60 калорий на порцию. Сохраните свой ответ в переменной more_calories и распечатайте его"
   ]
  },
  {
   "cell_type": "code",
   "execution_count": 44,
   "id": "ade0f6ea",
   "metadata": {},
   "outputs": [],
   "source": [
    "# your code"
   ]
  },
  {
   "cell_type": "markdown",
   "id": "1735d65b",
   "metadata": {},
   "source": [
    "7. Это действительно высокий процент. Это будет очень полезно, когда мы будем продвигать CrunchieMunchies. Но один вопрос заключается в том, насколько велики различия в наборе данных? Можем ли мы сделать обобщение, что в большинстве злаков содержится около 100 калорий или разброс еще больше?\n",
    "\n",
    "Рассчитайте величину отклонения, найдя стандартное отклонение, Сохраните свой ответ в calorie_std и распечатайте на терминале. Как мы можем включить эту ценность в наш анализ?"
   ]
  },
  {
   "cell_type": "code",
   "execution_count": 45,
   "id": "85c8df1f",
   "metadata": {},
   "outputs": [],
   "source": [
    "# your code"
   ]
  },
  {
   "cell_type": "markdown",
   "id": "037455c5",
   "metadata": {},
   "source": [
    "8. Напишите короткий абзац, в котором кратко изложите свои выводы и то, как, по вашему мнению, эти данные могут быть использованы в интересах Mycrunch при маркетинге CrunchieMunchies."
   ]
  },
  {
   "cell_type": "code",
   "execution_count": 46,
   "id": "c260fee9",
   "metadata": {},
   "outputs": [],
   "source": [
    "# your code"
   ]
  }
 ],
 "metadata": {
  "kernelspec": {
   "display_name": "Python 3 (ipykernel)",
   "language": "python",
   "name": "python3"
  },
  "language_info": {
   "codemirror_mode": {
    "name": "ipython",
    "version": 3
   },
   "file_extension": ".py",
   "mimetype": "text/x-python",
   "name": "python",
   "nbconvert_exporter": "python",
   "pygments_lexer": "ipython3",
   "version": "3.13.0"
  }
 },
 "nbformat": 4,
 "nbformat_minor": 5
}
